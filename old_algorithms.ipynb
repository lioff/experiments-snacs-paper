{
 "cells": [
  {
   "cell_type": "code",
   "execution_count": null,
   "metadata": {},
   "outputs": [],
   "source": [
    "import snap\n",
    "import random\n",
    "import zlib\n",
    "import csv\n",
    "from scipy import stats # for scipy.stats.kstest\n",
    "import statistics"
   ]
  },
  {
   "cell_type": "markdown",
   "metadata": {},
   "source": [
    "# Graph Sampling"
   ]
  },
  {
   "cell_type": "code",
   "execution_count": null,
   "metadata": {},
   "outputs": [],
   "source": [
    "\n",
    "\n",
    "def get_color(vertex, k, perm):\n",
    "    return perm[vertex % 1000] % k\n",
    "    #return zlib.adler32(str(vertex + seed).encode('UTF-8')) % k\n",
    "\n",
    "def graph_sampling(stream, k):\n",
    "    perm = list(range(1000))\n",
    "    random.shuffle(perm)\n",
    "    \n",
    "    G = snap.TUNGraph.New()\n",
    "    for edge in stream:\n",
    "        u = int(edge[0])\n",
    "        v = int(edge[1])\n",
    "        if (get_color(u, k, perm) == get_color(v, k, perm)):\n",
    "            if (G.IsNode(u) == False):\n",
    "                G.AddNode(u)\n",
    "            if (G.IsNode(v) == False):\n",
    "                G.AddNode(v)\n",
    "            G.AddEdge(u, v)\n",
    "    return G\n",
    "\n",
    "def graph_sampling_file(path, seperator, k):\n",
    "    f = open(path, newline='')\n",
    "    stream = csv.reader(f, delimiter=seperator)\n",
    "    \n",
    "    return graph_sampling(stream, k)"
   ]
  },
  {
   "cell_type": "markdown",
   "metadata": {},
   "source": [
    "# Triangle and Open-Wedge Heavy-Hitter"
   ]
  },
  {
   "cell_type": "code",
   "execution_count": null,
   "metadata": {},
   "outputs": [],
   "source": [
    "def triangle_hh(G, a, e):\n",
    "    T = snap.GetTriads(G)\n",
    "    Ht = []\n",
    "    for vp in G.Nodes():\n",
    "        v = vp.GetId()\n",
    "        Tv = snap.GetNodeTriads(G, v)\n",
    "        if (Tv > (a - e/2)*T):\n",
    "            Ht.append(v)\n",
    "    return Ht"
   ]
  },
  {
   "cell_type": "code",
   "execution_count": null,
   "metadata": {},
   "outputs": [],
   "source": [
    "def open_wedge_hh(G, a, e):\n",
    "    W = snap.GetTriadsAll(G)[2]\n",
    "    Hw = []\n",
    "    for vp in G.Nodes():\n",
    "        v = vp.GetId()\n",
    "        Wv = snap.GetNodeTriadsAll(G, v)[2]\n",
    "        if (Wv > (a - e/2)*W):\n",
    "            Hw.append(v)\n",
    "    return Hw"
   ]
  },
  {
   "cell_type": "markdown",
   "metadata": {},
   "source": [
    "# Exact Computation"
   ]
  },
  {
   "cell_type": "code",
   "execution_count": null,
   "metadata": {},
   "outputs": [],
   "source": [
    "def exact_computation(path, seperator, a):\n",
    "    G = snap.LoadEdgeList(snap.PUNGraph, path, 0, 1, seperator)\n",
    "    \n",
    "    total = snap.GetTriadsAll(G)\n",
    "\n",
    "    Ht = []\n",
    "    Hw = []\n",
    "\n",
    "    TriadV = snap.TIntTrV()\n",
    "    snap.GetTriads(G, TriadV)\n",
    "    for vr in TriadV:\n",
    "        if (vr.GetVal2() > a*total[1]):\n",
    "            Ht.append(vr.GetVal1())\n",
    "        if (vr.GetVal3() > a*total[2]):\n",
    "            Hw.append(vr.GetVal1())\n",
    "    return [Ht, Hw]"
   ]
  },
  {
   "cell_type": "markdown",
   "metadata": {},
   "source": [
    "# Experiment"
   ]
  },
  {
   "cell_type": "markdown",
   "metadata": {},
   "source": [
    "## NotreDame"
   ]
  },
  {
   "cell_type": "code",
   "execution_count": null,
   "metadata": {},
   "outputs": [],
   "source": [
    "%%time\n",
    "\n",
    "a = 0.000001\n",
    "e = a/1.2\n",
    "\n",
    "G = graph_sampling_file('data/web-NotreDame.txt', '\\t', 6)\n",
    "\n",
    "Ht = triangle_hh(G, a, e)\n",
    "Hw = open_wedge_hh(G, a, e)\n",
    "\n",
    "print(len(Ht), len(Hw))"
   ]
  },
  {
   "cell_type": "code",
   "execution_count": null,
   "metadata": {},
   "outputs": [],
   "source": [
    "%%time\n",
    "\n",
    "# exact\n",
    "H = exact_computation('data/web-NotreDame.txt', '\\t', a)\n",
    "print(len(H[0]), len(H[1]))"
   ]
  },
  {
   "cell_type": "markdown",
   "metadata": {},
   "source": [
    "## YouTube"
   ]
  },
  {
   "cell_type": "code",
   "execution_count": null,
   "metadata": {},
   "outputs": [],
   "source": [
    "%%time\n",
    "\n",
    "G = graph_sampling_file('data/com-youtube.ungraph.txt', '\\t', 8)\n",
    "\n",
    "Ht = triangle_hh(G, 0.005, 0.005/2)\n",
    "Hw = open_wedge_hh(G, 0.005, 0.005/2)\n",
    "\n",
    "print(len(Ht), len(Hw))"
   ]
  },
  {
   "cell_type": "code",
   "execution_count": null,
   "metadata": {},
   "outputs": [],
   "source": [
    "%%time\n",
    "\n",
    "H = exact_computation('data/com-youtube.ungraph.txt', '\\t', 0.005)\n",
    "print(len(H[0]), len(H[1]))"
   ]
  },
  {
   "cell_type": "code",
   "execution_count": null,
   "metadata": {},
   "outputs": [],
   "source": []
  },
  {
   "cell_type": "code",
   "execution_count": null,
   "metadata": {},
   "outputs": [],
   "source": []
  }
 ],
 "metadata": {
  "kernelspec": {
   "display_name": "Python 3",
   "language": "python",
   "name": "python3"
  },
  "language_info": {
   "codemirror_mode": {
    "name": "ipython",
    "version": 3
   },
   "file_extension": ".py",
   "mimetype": "text/x-python",
   "name": "python",
   "nbconvert_exporter": "python",
   "pygments_lexer": "ipython3",
   "version": "3.7.9"
  }
 },
 "nbformat": 4,
 "nbformat_minor": 4
}
